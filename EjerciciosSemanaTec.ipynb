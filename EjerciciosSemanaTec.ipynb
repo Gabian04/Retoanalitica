{
 "cells": [
  {
   "cell_type": "markdown",
   "id": "8dc24ae7",
   "metadata": {},
   "source": [
    "Santiago Gabian Perez\n",
    "\n",
    "A01658280\n",
    "\n",
    "\n",
    "Ejercicio 1"
   ]
  },
  {
   "cell_type": "code",
   "execution_count": 9,
   "id": "3025fd74",
   "metadata": {},
   "outputs": [
    {
     "name": "stdout",
     "output_type": "stream",
     "text": [
      "Pon un numero N\n",
      "2\n"
     ]
    }
   ],
   "source": [
    "def isPrime(n):\n",
    "  if(n==1 or n==0):\n",
    "    return False\n",
    "  if(n==3):\n",
    "    return True\n",
    "  for i in range(2,int(n**(1/2)+1)):\n",
    "    if(n%i==0):\n",
    "      return False\n",
    "    return True\n",
    "\n",
    "print(\"Pon un numero N\")\n",
    "N=int(input())\n",
    "for i in range(1,N+1):\n",
    "  if(isPrime(i)):\n",
    "    print(i,\" \")"
   ]
  },
  {
   "cell_type": "markdown",
   "id": "f40232c5",
   "metadata": {},
   "source": [
    "Ejercicio 2"
   ]
  },
  {
   "cell_type": "code",
   "execution_count": 20,
   "id": "1b09dc14",
   "metadata": {},
   "outputs": [
    {
     "name": "stdout",
     "output_type": "stream",
     "text": [
      "pon componentes de primer vector\n",
      "2\n",
      "3\n",
      "3\n",
      "pon componentes de segundo vector\n",
      "3\n",
      "3\n",
      "3\n",
      "[ 0  3 -3]\n"
     ]
    }
   ],
   "source": [
    "import numpy as np\n",
    "def cross(vector1,vector2):\n",
    "  m=np.cross(vector1,vector2)\n",
    "  print(m)\n",
    "list1 = []\n",
    "print(\"pon componentes de primer vector\")\n",
    "\n",
    "for j in range(0,3):\n",
    "  ele = int(input())\n",
    " \n",
    "  list1.append(ele)\n",
    "vector1=np.array(list1)\n",
    "\n",
    "list2 = []\n",
    "print(\"pon componentes de segundo vector\")\n",
    " \n",
    "for i in range(0,3):\n",
    "    ele = int(input())\n",
    " \n",
    "    list2.append(ele)\n",
    "vector2=np.array(list2)\n",
    "\n",
    "cross(vector1,vector2)"
   ]
  },
  {
   "cell_type": "markdown",
   "id": "70402cad",
   "metadata": {},
   "source": [
    "Ejercicio 3"
   ]
  },
  {
   "cell_type": "code",
   "execution_count": 24,
   "id": "1d265c53",
   "metadata": {},
   "outputs": [
    {
     "name": "stdout",
     "output_type": "stream",
     "text": [
      "[ 14  14 -14]\n"
     ]
    }
   ],
   "source": [
    "import numpy as np \n",
    "list3 = []\n",
    "list4 = []   \n",
    "txt_file = open(\"file.txt\", \"r\")\n",
    "file_content = txt_file.readline()\n",
    "content_list = file_content.split()\n",
    "for i in range(0,3):\n",
    "  list3.append(int(content_list[i]))\n",
    " \n",
    "vector3=np.array(list3)\n",
    "for i in range(3,6):\n",
    " \n",
    "  list4.append(int(content_list[i]))\n",
    "vector4=np.array(list4)\n",
    "cross(vector3,vector4)"
   ]
  },
  {
   "cell_type": "markdown",
   "id": "d0aff9ef",
   "metadata": {},
   "source": []
  },
  {
   "cell_type": "code",
   "execution_count": null,
   "id": "b6c18651",
   "metadata": {},
   "outputs": [],
   "source": []
  }
 ],
 "metadata": {
  "kernelspec": {
   "display_name": "Python 3 (ipykernel)",
   "language": "python",
   "name": "python3"
  },
  "language_info": {
   "codemirror_mode": {
    "name": "ipython",
    "version": 3
   },
   "file_extension": ".py",
   "mimetype": "text/x-python",
   "name": "python",
   "nbconvert_exporter": "python",
   "pygments_lexer": "ipython3",
   "version": "3.9.12"
  }
 },
 "nbformat": 4,
 "nbformat_minor": 5
}
